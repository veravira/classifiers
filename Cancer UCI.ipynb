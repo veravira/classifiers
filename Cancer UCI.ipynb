{
 "cells": [
  {
   "cell_type": "code",
   "execution_count": 1,
   "metadata": {},
   "outputs": [],
   "source": [
    "import pandas as pd\n",
    "import numpy as np\n",
    "import matplotlib.pyplot as plt\n",
    "import warnings\n",
    "warnings.filterwarnings('ignore')\n",
    "data = pd.read_csv(\"cancer_uci.csv\", sep=',')"
   ]
  },
  {
   "cell_type": "code",
   "execution_count": 2,
   "metadata": {},
   "outputs": [],
   "source": [
    "data.columns = ['class', 'age', 'menopause', 'tumor_size', 'inv_nodes', 'node_caps', 'deg_malig', 'breast', 'breast_quad', 'irradiant']"
   ]
  },
  {
   "cell_type": "code",
   "execution_count": 10,
   "metadata": {},
   "outputs": [
    {
     "data": {
      "text/html": [
       "<div>\n",
       "<style scoped>\n",
       "    .dataframe tbody tr th:only-of-type {\n",
       "        vertical-align: middle;\n",
       "    }\n",
       "\n",
       "    .dataframe tbody tr th {\n",
       "        vertical-align: top;\n",
       "    }\n",
       "\n",
       "    .dataframe thead th {\n",
       "        text-align: right;\n",
       "    }\n",
       "</style>\n",
       "<table border=\"1\" class=\"dataframe\">\n",
       "  <thead>\n",
       "    <tr style=\"text-align: right;\">\n",
       "      <th></th>\n",
       "      <th>class</th>\n",
       "      <th>age</th>\n",
       "      <th>menopause</th>\n",
       "      <th>tumor_size</th>\n",
       "      <th>inv_nodes</th>\n",
       "      <th>node_caps</th>\n",
       "      <th>deg_malig</th>\n",
       "      <th>breast</th>\n",
       "      <th>breast_quad</th>\n",
       "      <th>irradiant</th>\n",
       "    </tr>\n",
       "  </thead>\n",
       "  <tbody>\n",
       "    <tr>\n",
       "      <th>0</th>\n",
       "      <td>no-recurrence-events</td>\n",
       "      <td>40-49</td>\n",
       "      <td>premeno</td>\n",
       "      <td>20-24</td>\n",
       "      <td>0-2</td>\n",
       "      <td>no</td>\n",
       "      <td>2</td>\n",
       "      <td>right</td>\n",
       "      <td>right_up</td>\n",
       "      <td>no</td>\n",
       "    </tr>\n",
       "    <tr>\n",
       "      <th>1</th>\n",
       "      <td>no-recurrence-events</td>\n",
       "      <td>40-49</td>\n",
       "      <td>premeno</td>\n",
       "      <td>20-24</td>\n",
       "      <td>0-2</td>\n",
       "      <td>no</td>\n",
       "      <td>2</td>\n",
       "      <td>left</td>\n",
       "      <td>left_low</td>\n",
       "      <td>no</td>\n",
       "    </tr>\n",
       "    <tr>\n",
       "      <th>2</th>\n",
       "      <td>no-recurrence-events</td>\n",
       "      <td>60-69</td>\n",
       "      <td>ge40</td>\n",
       "      <td>15-19</td>\n",
       "      <td>0-2</td>\n",
       "      <td>no</td>\n",
       "      <td>2</td>\n",
       "      <td>right</td>\n",
       "      <td>left_up</td>\n",
       "      <td>no</td>\n",
       "    </tr>\n",
       "    <tr>\n",
       "      <th>3</th>\n",
       "      <td>no-recurrence-events</td>\n",
       "      <td>40-49</td>\n",
       "      <td>premeno</td>\n",
       "      <td>0-4</td>\n",
       "      <td>0-2</td>\n",
       "      <td>no</td>\n",
       "      <td>2</td>\n",
       "      <td>right</td>\n",
       "      <td>right_low</td>\n",
       "      <td>no</td>\n",
       "    </tr>\n",
       "    <tr>\n",
       "      <th>4</th>\n",
       "      <td>no-recurrence-events</td>\n",
       "      <td>60-69</td>\n",
       "      <td>ge40</td>\n",
       "      <td>15-19</td>\n",
       "      <td>0-2</td>\n",
       "      <td>no</td>\n",
       "      <td>2</td>\n",
       "      <td>left</td>\n",
       "      <td>left_low</td>\n",
       "      <td>no</td>\n",
       "    </tr>\n",
       "  </tbody>\n",
       "</table>\n",
       "</div>"
      ],
      "text/plain": [
       "                  class    age menopause tumor_size inv_nodes node_caps  \\\n",
       "0  no-recurrence-events  40-49   premeno      20-24       0-2        no   \n",
       "1  no-recurrence-events  40-49   premeno      20-24       0-2        no   \n",
       "2  no-recurrence-events  60-69      ge40      15-19       0-2        no   \n",
       "3  no-recurrence-events  40-49   premeno        0-4       0-2        no   \n",
       "4  no-recurrence-events  60-69      ge40      15-19       0-2        no   \n",
       "\n",
       "   deg_malig breast breast_quad irradiant  \n",
       "0          2  right    right_up        no  \n",
       "1          2   left    left_low        no  \n",
       "2          2  right     left_up        no  \n",
       "3          2  right   right_low        no  \n",
       "4          2   left    left_low        no  "
      ]
     },
     "execution_count": 10,
     "metadata": {},
     "output_type": "execute_result"
    }
   ],
   "source": [
    "data.head(5)\n",
    "# data.shape"
   ]
  },
  {
   "cell_type": "code",
   "execution_count": 4,
   "metadata": {},
   "outputs": [
    {
     "data": {
      "text/html": [
       "<div>\n",
       "<style scoped>\n",
       "    .dataframe tbody tr th:only-of-type {\n",
       "        vertical-align: middle;\n",
       "    }\n",
       "\n",
       "    .dataframe tbody tr th {\n",
       "        vertical-align: top;\n",
       "    }\n",
       "\n",
       "    .dataframe thead th {\n",
       "        text-align: right;\n",
       "    }\n",
       "</style>\n",
       "<table border=\"1\" class=\"dataframe\">\n",
       "  <thead>\n",
       "    <tr style=\"text-align: right;\">\n",
       "      <th></th>\n",
       "      <th>deg_malig</th>\n",
       "    </tr>\n",
       "  </thead>\n",
       "  <tbody>\n",
       "    <tr>\n",
       "      <th>count</th>\n",
       "      <td>285.000000</td>\n",
       "    </tr>\n",
       "    <tr>\n",
       "      <th>mean</th>\n",
       "      <td>2.045614</td>\n",
       "    </tr>\n",
       "    <tr>\n",
       "      <th>std</th>\n",
       "      <td>0.737351</td>\n",
       "    </tr>\n",
       "    <tr>\n",
       "      <th>min</th>\n",
       "      <td>1.000000</td>\n",
       "    </tr>\n",
       "    <tr>\n",
       "      <th>25%</th>\n",
       "      <td>2.000000</td>\n",
       "    </tr>\n",
       "    <tr>\n",
       "      <th>50%</th>\n",
       "      <td>2.000000</td>\n",
       "    </tr>\n",
       "    <tr>\n",
       "      <th>75%</th>\n",
       "      <td>3.000000</td>\n",
       "    </tr>\n",
       "    <tr>\n",
       "      <th>max</th>\n",
       "      <td>3.000000</td>\n",
       "    </tr>\n",
       "  </tbody>\n",
       "</table>\n",
       "</div>"
      ],
      "text/plain": [
       "        deg_malig\n",
       "count  285.000000\n",
       "mean     2.045614\n",
       "std      0.737351\n",
       "min      1.000000\n",
       "25%      2.000000\n",
       "50%      2.000000\n",
       "75%      3.000000\n",
       "max      3.000000"
      ]
     },
     "execution_count": 4,
     "metadata": {},
     "output_type": "execute_result"
    }
   ],
   "source": [
    "data.describe()"
   ]
  },
  {
   "cell_type": "code",
   "execution_count": 5,
   "metadata": {},
   "outputs": [
    {
     "data": {
      "text/plain": [
       "array([[<matplotlib.axes._subplots.AxesSubplot object at 0x112d0e048>]], dtype=object)"
      ]
     },
     "execution_count": 5,
     "metadata": {},
     "output_type": "execute_result"
    },
    {
     "data": {
      "image/png": "[encoded data removed]",
      "text/plain": [
       "<Figure size 432x288 with 1 Axes>"
      ]
     },
     "metadata": {},
     "output_type": "display_data"
    }
   ],
   "source": [
    "data.hist()"
   ]
  },
  {
   "cell_type": "code",
   "execution_count": 6,
   "metadata": {},
   "outputs": [
    {
     "data": {
      "text/html": [
       "<div>\n",
       "<style scoped>\n",
       "    .dataframe tbody tr th:only-of-type {\n",
       "        vertical-align: middle;\n",
       "    }\n",
       "\n",
       "    .dataframe tbody tr th {\n",
       "        vertical-align: top;\n",
       "    }\n",
       "\n",
       "    .dataframe thead th {\n",
       "        text-align: right;\n",
       "    }\n",
       "</style>\n",
       "<table border=\"1\" class=\"dataframe\">\n",
       "  <thead>\n",
       "    <tr style=\"text-align: right;\">\n",
       "      <th></th>\n",
       "      <th>deg_malig</th>\n",
       "    </tr>\n",
       "  </thead>\n",
       "  <tbody>\n",
       "    <tr>\n",
       "      <th>deg_malig</th>\n",
       "      <td>1.0</td>\n",
       "    </tr>\n",
       "  </tbody>\n",
       "</table>\n",
       "</div>"
      ],
      "text/plain": [
       "           deg_malig\n",
       "deg_malig        1.0"
      ]
     },
     "execution_count": 6,
     "metadata": {},
     "output_type": "execute_result"
    }
   ],
   "source": [
    "data.corr()"
   ]
  },
  {
   "cell_type": "code",
   "execution_count": 7,
   "metadata": {},
   "outputs": [
    {
     "data": {
      "text/plain": [
       "<matplotlib.axes._subplots.AxesSubplot at 0x11e2cd048>"
      ]
     },
     "execution_count": 7,
     "metadata": {},
     "output_type": "execute_result"
    },
    {
     "data": {
      "image/png": "[encoded data removed]",
      "text/plain": [
       "<Figure size 432x288 with 1 Axes>"
      ]
     },
     "metadata": {},
     "output_type": "display_data"
    }
   ],
   "source": [
    "data['age'].value_counts().plot(kind='bar')"
   ]
  },
  {
   "cell_type": "code",
   "execution_count": 11,
   "metadata": {},
   "outputs": [
    {
     "data": {
      "text/plain": [
       "<matplotlib.axes._subplots.AxesSubplot at 0x11e6065f8>"
      ]
     },
     "execution_count": 11,
     "metadata": {},
     "output_type": "execute_result"
    },
    {
     "data": {
      "image/png": "[encoded data removed]",
      "text/plain": [
       "<Figure size 432x288 with 1 Axes>"
      ]
     },
     "metadata": {},
     "output_type": "display_data"
    }
   ],
   "source": [
    "data['deg_malig'].value_counts().plot(kind='bar')"
   ]
  },
  {
   "cell_type": "code",
   "execution_count": 13,
   "metadata": {},
   "outputs": [
    {
     "data": {
      "text/plain": [
       "<matplotlib.axes._subplots.AxesSubplot at 0x1a20515710>"
      ]
     },
     "execution_count": 13,
     "metadata": {},
     "output_type": "execute_result"
    },
    {
     "data": {
      "image/png": "[encoded data removed]",
      "text/plain": [
       "<Figure size 432x288 with 1 Axes>"
      ]
     },
     "metadata": {},
     "output_type": "display_data"
    }
   ],
   "source": [
    "import seaborn as sns\n",
    "sns.barplot(y='deg_malig', x='age', data=data, hue='class')"
   ]
  },
  {
   "cell_type": "code",
   "execution_count": 14,
   "metadata": {},
   "outputs": [
    {
     "data": {
      "text/plain": [
       "<matplotlib.axes._subplots.AxesSubplot at 0x1a206b21d0>"
      ]
     },
     "execution_count": 14,
     "metadata": {},
     "output_type": "execute_result"
    },
    {
     "data": {
      "image/png": "[encoded data removed]",
      "text/plain": [
       "<Figure size 432x288 with 1 Axes>"
      ]
     },
     "metadata": {},
     "output_type": "display_data"
    }
   ],
   "source": [
    "sns.barplot(y='deg_malig', x='tumor_size', data=data, hue='class')"
   ]
  },
  {
   "cell_type": "code",
   "execution_count": 15,
   "metadata": {},
   "outputs": [
    {
     "data": {
      "text/plain": [
       "<matplotlib.axes._subplots.AxesSubplot at 0x1a208219b0>"
      ]
     },
     "execution_count": 15,
     "metadata": {},
     "output_type": "execute_result"
    },
    {
     "data": {
      "image/png": "[encoded data removed]",
      "text/plain": [
       "<Figure size 432x288 with 1 Axes>"
      ]
     },
     "metadata": {},
     "output_type": "display_data"
    }
   ],
   "source": [
    "sns.barplot(y='deg_malig', x='breast_quad', data=data, hue='class')"
   ]
  },
  {
   "cell_type": "code",
   "execution_count": 16,
   "metadata": {},
   "outputs": [],
   "source": [
    "from sklearn.preprocessing import LabelEncoder"
   ]
  },
  {
   "cell_type": "code",
   "execution_count": 23,
   "metadata": {},
   "outputs": [
    {
     "data": {
      "text/html": [
       "<div>\n",
       "<style scoped>\n",
       "    .dataframe tbody tr th:only-of-type {\n",
       "        vertical-align: middle;\n",
       "    }\n",
       "\n",
       "    .dataframe tbody tr th {\n",
       "        vertical-align: top;\n",
       "    }\n",
       "\n",
       "    .dataframe thead th {\n",
       "        text-align: right;\n",
       "    }\n",
       "</style>\n",
       "<table border=\"1\" class=\"dataframe\">\n",
       "  <thead>\n",
       "    <tr style=\"text-align: right;\">\n",
       "      <th></th>\n",
       "      <th>class</th>\n",
       "      <th>age</th>\n",
       "      <th>menopause</th>\n",
       "      <th>tumor_size</th>\n",
       "      <th>inv_nodes</th>\n",
       "      <th>node_caps</th>\n",
       "      <th>deg_malig</th>\n",
       "      <th>breast</th>\n",
       "      <th>breast_quad</th>\n",
       "      <th>irradiant</th>\n",
       "    </tr>\n",
       "  </thead>\n",
       "  <tbody>\n",
       "    <tr>\n",
       "      <th>0</th>\n",
       "      <td>no-recurrence-events</td>\n",
       "      <td>40-49</td>\n",
       "      <td>premeno</td>\n",
       "      <td>20-24</td>\n",
       "      <td>0-2</td>\n",
       "      <td>no</td>\n",
       "      <td>2</td>\n",
       "      <td>right</td>\n",
       "      <td>right_up</td>\n",
       "      <td>no</td>\n",
       "    </tr>\n",
       "    <tr>\n",
       "      <th>1</th>\n",
       "      <td>no-recurrence-events</td>\n",
       "      <td>40-49</td>\n",
       "      <td>premeno</td>\n",
       "      <td>20-24</td>\n",
       "      <td>0-2</td>\n",
       "      <td>no</td>\n",
       "      <td>2</td>\n",
       "      <td>left</td>\n",
       "      <td>left_low</td>\n",
       "      <td>no</td>\n",
       "    </tr>\n",
       "    <tr>\n",
       "      <th>2</th>\n",
       "      <td>no-recurrence-events</td>\n",
       "      <td>60-69</td>\n",
       "      <td>ge40</td>\n",
       "      <td>15-19</td>\n",
       "      <td>0-2</td>\n",
       "      <td>no</td>\n",
       "      <td>2</td>\n",
       "      <td>right</td>\n",
       "      <td>left_up</td>\n",
       "      <td>no</td>\n",
       "    </tr>\n",
       "  </tbody>\n",
       "</table>\n",
       "</div>"
      ],
      "text/plain": [
       "                  class    age menopause tumor_size inv_nodes node_caps  \\\n",
       "0  no-recurrence-events  40-49   premeno      20-24       0-2        no   \n",
       "1  no-recurrence-events  40-49   premeno      20-24       0-2        no   \n",
       "2  no-recurrence-events  60-69      ge40      15-19       0-2        no   \n",
       "\n",
       "   deg_malig breast breast_quad irradiant  \n",
       "0          2  right    right_up        no  \n",
       "1          2   left    left_low        no  \n",
       "2          2  right     left_up        no  "
      ]
     },
     "execution_count": 23,
     "metadata": {},
     "output_type": "execute_result"
    }
   ],
   "source": [
    "data.head(3)"
   ]
  },
  {
   "cell_type": "code",
   "execution_count": 24,
   "metadata": {},
   "outputs": [],
   "source": [
    "X = data.iloc[:, 1:].values\n",
    "y = data.iloc[:, 0].values"
   ]
  },
  {
   "cell_type": "code",
   "execution_count": 25,
   "metadata": {},
   "outputs": [],
   "source": [
    "from sklearn.preprocessing import LabelEncoder, OneHotEncoder\n",
    "labelencoder_y = LabelEncoder()\n",
    "y = labelencoder_y.fit_transform(y)"
   ]
  },
  {
   "cell_type": "code",
   "execution_count": 26,
   "metadata": {},
   "outputs": [
    {
     "data": {
      "text/plain": [
       "array([0, 0, 0, 0, 0, 0, 0, 0, 0, 0, 0, 0, 0, 0, 0, 0, 0, 0, 0, 0, 0, 0, 0,\n",
       "       0, 0, 0, 0, 0, 0, 0, 0, 0, 0, 0, 0, 0, 0, 0, 0, 0, 0, 0, 0, 0, 0, 0,\n",
       "       0, 0, 0, 0, 0, 0, 0, 0, 0, 0, 0, 0, 0, 0, 0, 0, 0, 0, 0, 0, 0, 0, 0,\n",
       "       0, 0, 0, 0, 0, 0, 0, 0, 0, 0, 0, 0, 0, 0, 0, 0, 0, 0, 0, 0, 0, 0, 0,\n",
       "       0, 0, 0, 0, 0, 0, 0, 0, 0, 0, 0, 0, 0, 0, 0, 0, 0, 0, 0, 0, 0, 0, 0,\n",
       "       0, 0, 0, 0, 0, 0, 0, 0, 0, 0, 0, 0, 0, 0, 0, 0, 0, 0, 0, 0, 0, 0, 0,\n",
       "       0, 0, 0, 0, 0, 0, 0, 0, 0, 0, 0, 0, 0, 0, 0, 0, 0, 0, 0, 0, 0, 0, 0,\n",
       "       0, 0, 0, 0, 0, 0, 0, 0, 0, 0, 0, 0, 0, 0, 0, 0, 0, 0, 0, 0, 0, 0, 0,\n",
       "       0, 0, 0, 0, 0, 0, 0, 0, 0, 0, 0, 0, 0, 0, 0, 0, 1, 1, 1, 1, 1, 1, 1,\n",
       "       1, 1, 1, 1, 1, 1, 1, 1, 1, 1, 1, 1, 1, 1, 1, 1, 1, 1, 1, 1, 1, 1, 1,\n",
       "       1, 1, 1, 1, 1, 1, 1, 1, 1, 1, 1, 1, 1, 1, 1, 1, 1, 1, 1, 1, 1, 1, 1,\n",
       "       1, 1, 1, 1, 1, 1, 1, 1, 1, 1, 1, 1, 1, 1, 1, 1, 1, 1, 1, 1, 1, 1, 1,\n",
       "       1, 1, 1, 1, 1, 1, 1, 1, 1])"
      ]
     },
     "execution_count": 26,
     "metadata": {},
     "output_type": "execute_result"
    }
   ],
   "source": [
    "y"
   ]
  },
  {
   "cell_type": "code",
   "execution_count": 30,
   "metadata": {},
   "outputs": [],
   "source": [
    "lb_x1 = LabelEncoder()\n",
    "X[:,1] = lb_x1.fit_transform(X[:,1])\n",
    "onehotencoder = OneHotEncoder(categorical_features = [1])\n",
    "# X1 = onehotencoder.fit_transform(X[:,1]).toarray()\n",
    "# X1 = X[:, 1]"
   ]
  },
  {
   "cell_type": "code",
   "execution_count": 35,
   "metadata": {},
   "outputs": [
    {
     "data": {
      "text/plain": [
       "array([2, 2, 0, 2, 0, 2, 0, 2, 2, 2, 0, 1, 0, 2, 1, 2, 2, 0, 0, 0, 0, 2, 2,\n",
       "       2, 2, 2, 0, 2, 0, 0, 2, 2, 0, 0, 2, 0, 0, 2, 2, 0, 0, 0, 2, 0, 0, 2,\n",
       "       2, 2, 2, 1, 2, 2, 0, 0, 0, 0, 0, 0, 0, 2, 2, 0, 2, 2, 2, 2, 0, 0, 0,\n",
       "       0, 2, 0, 2, 2, 0, 0, 2, 2, 2, 0, 0, 0, 0, 2, 0, 0, 0, 0, 2, 2, 0, 0,\n",
       "       0, 2, 2, 0, 0, 2, 2, 0, 0, 2, 2, 2, 2, 2, 2, 2, 0, 0, 0, 2, 2, 2, 0,\n",
       "       2, 0, 2, 0, 0, 0, 0, 0, 0, 0, 2, 2, 2, 2, 2, 2, 2, 0, 0, 2, 2, 2, 2,\n",
       "       2, 0, 2, 0, 2, 0, 2, 0, 2, 2, 1, 0, 0, 0, 0, 1, 0, 0, 2, 0, 2, 2, 2,\n",
       "       0, 0, 0, 2, 2, 0, 2, 0, 2, 2, 0, 0, 2, 2, 0, 0, 2, 2, 2, 2, 2, 0, 0,\n",
       "       2, 0, 0, 2, 0, 2, 2, 0, 2, 2, 0, 2, 2, 0, 2, 0, 2, 2, 0, 2, 2, 0, 2,\n",
       "       2, 2, 2, 0, 2, 2, 0, 0, 0, 2, 0, 2, 2, 2, 0, 0, 2, 0, 2, 2, 0, 0, 2,\n",
       "       2, 2, 0, 0, 2, 2, 2, 2, 2, 0, 2, 0, 0, 2, 2, 2, 0, 0, 2, 2, 2, 2, 0,\n",
       "       2, 2, 2, 2, 0, 0, 0, 0, 0, 1, 1, 2, 2, 0, 2, 2, 0, 2, 2, 0, 0, 2, 2,\n",
       "       0, 2, 0, 0, 2, 2, 0, 0, 0], dtype=object)"
      ]
     },
     "execution_count": 35,
     "metadata": {},
     "output_type": "execute_result"
    }
   ],
   "source": [
    "import numpy as np\n",
    "X[:,1]"
   ]
  },
  {
   "cell_type": "code",
   "execution_count": 36,
   "metadata": {},
   "outputs": [
    {
     "name": "stderr",
     "output_type": "stream",
     "text": [
      "Using TensorFlow backend.\n"
     ]
    }
   ],
   "source": [
    "import keras\n",
    "from keras.models import Sequential\n",
    "from keras.layers import Dense"
   ]
  },
  {
   "cell_type": "code",
   "execution_count": 37,
   "metadata": {},
   "outputs": [],
   "source": [
    "#Initializing Neural Network\n",
    "classifier = Sequential()"
   ]
  },
  {
   "cell_type": "code",
   "execution_count": 38,
   "metadata": {},
   "outputs": [
    {
     "name": "stderr",
     "output_type": "stream",
     "text": [
      "/anaconda3/lib/python3.6/site-packages/ipykernel_launcher.py:2: UserWarning: Update your `Dense` call to the Keras 2 API: `Dense(activation=\"relu\", input_dim=11, units=6, kernel_initializer=\"uniform\")`\n",
      "  \n",
      "/anaconda3/lib/python3.6/site-packages/ipykernel_launcher.py:4: UserWarning: Update your `Dense` call to the Keras 2 API: `Dense(activation=\"relu\", units=6, kernel_initializer=\"uniform\")`\n",
      "  after removing the cwd from sys.path.\n",
      "/anaconda3/lib/python3.6/site-packages/ipykernel_launcher.py:6: UserWarning: Update your `Dense` call to the Keras 2 API: `Dense(activation=\"sigmoid\", units=1, kernel_initializer=\"uniform\")`\n",
      "  \n"
     ]
    }
   ],
   "source": [
    "# Adding the input layer and the first hidden layer\n",
    "classifier.add(Dense(output_dim = 6, init = 'uniform', activation = 'relu', input_dim = 11))\n",
    "# Adding the second hidden layer\n",
    "classifier.add(Dense(output_dim = 6, init = 'uniform', activation = 'relu'))\n",
    "# Adding the output layer\n",
    "classifier.add(Dense(output_dim = 1, init = 'uniform', activation = 'sigmoid'))"
   ]
  },
  {
   "cell_type": "code",
   "execution_count": 39,
   "metadata": {},
   "outputs": [],
   "source": [
    "classifier.compile(optimizer = 'adam', loss = 'binary_crossentropy', metrics = ['accuracy'])"
   ]
  },
  {
   "cell_type": "code",
   "execution_count": 65,
   "metadata": {},
   "outputs": [],
   "source": [
    "# Splitting the dataset into the Training set and Test set\n",
    "from sklearn.model_selection import train_test_split\n",
    "X_train, X_test, y_train, y_test = train_test_split(X, y, test_size = 0.3)"
   ]
  },
  {
   "cell_type": "code",
   "execution_count": 92,
   "metadata": {},
   "outputs": [],
   "source": [
    "from sklearn.preprocessing import StandardScaler\n",
    "sc = StandardScaler()\n",
    "X_train = sc.fit_transform(X_train)\n",
    "X_test = sc.transform(X_test)"
   ]
  },
  {
   "cell_type": "code",
   "execution_count": 57,
   "metadata": {},
   "outputs": [
    {
     "data": {
      "text/plain": [
       "array([[4, 0, 2, ..., 'left', 'left_low', 'no'],\n",
       "       [3, 0, 3, ..., 'right', 'left_up', 'no'],\n",
       "       [4, 0, 5, ..., 'left', 'left_low', 'yes'],\n",
       "       ..., \n",
       "       [3, 2, 5, ..., 'right', 'left_up', 'yes'],\n",
       "       [4, 0, 10, ..., 'right', 'left_up', 'no'],\n",
       "       [2, 2, 3, ..., 'left', 'central', 'no']], dtype=object)"
      ]
     },
     "execution_count": 57,
     "metadata": {},
     "output_type": "execute_result"
    }
   ],
   "source": [
    "X_train"
   ]
  },
  {
   "cell_type": "code",
   "execution_count": 54,
   "metadata": {},
   "outputs": [],
   "source": [
    "lb_x2 = LabelEncoder()\n",
    "X[:,2] = lb_x2.fit_transform(X[:,2])\n",
    "# onehotencoder = OneHotEncoder(categorical_features = [1])"
   ]
  },
  {
   "cell_type": "code",
   "execution_count": 53,
   "metadata": {},
   "outputs": [],
   "source": [
    "lb_x0 = LabelEncoder()\n",
    "X[:,0] = lb_x0.fit_transform(X[:,0])\n",
    "lb_x1 = LabelEncoder()\n",
    "X[:,1] = lb_x1.fit_transform(X[:,1])\n"
   ]
  },
  {
   "cell_type": "code",
   "execution_count": 59,
   "metadata": {},
   "outputs": [],
   "source": [
    "lb_x3 = LabelEncoder()\n",
    "X[:,3] = lb_x3.fit_transform(X[:,3])\n",
    "lb_x4 = LabelEncoder()\n",
    "X[:,4] = lb_x4.fit_transform(X[:,4])\n",
    "lb_x5 = LabelEncoder()\n",
    "X[:,5] = lb_x5.fit_transform(X[:,5])"
   ]
  },
  {
   "cell_type": "code",
   "execution_count": 61,
   "metadata": {},
   "outputs": [],
   "source": [
    "lb_x7 = LabelEncoder()\n",
    "X[:,7] = lb_x7.fit_transform(X[:,7])\n",
    "lb_x8 = LabelEncoder()\n",
    "X[:,8] = lb_x8.fit_transform(X[:,8])\n"
   ]
  },
  {
   "cell_type": "code",
   "execution_count": 66,
   "metadata": {},
   "outputs": [
    {
     "data": {
      "text/plain": [
       "array([[3, 2, 4, ..., 0, 2, 1],\n",
       "       [4, 0, 1, ..., 0, 2, 0],\n",
       "       [3, 0, 4, ..., 1, 3, 0],\n",
       "       ..., \n",
       "       [4, 0, 4, ..., 1, 2, 1],\n",
       "       [3, 0, 10, ..., 1, 5, 0],\n",
       "       [3, 2, 4, ..., 0, 2, 0]], dtype=object)"
      ]
     },
     "execution_count": 66,
     "metadata": {},
     "output_type": "execute_result"
    }
   ],
   "source": [
    "X_train"
   ]
  },
  {
   "cell_type": "code",
   "execution_count": 63,
   "metadata": {},
   "outputs": [],
   "source": [
    "lb_x6 = LabelEncoder()\n",
    "X[:,6] = lb_x6.fit_transform(X[:,6])"
   ]
  },
  {
   "cell_type": "code",
   "execution_count": 67,
   "metadata": {},
   "outputs": [
    {
     "name": "stderr",
     "output_type": "stream",
     "text": [
      "/anaconda3/lib/python3.6/site-packages/sklearn/utils/validation.py:475: DataConversionWarning: Data with input dtype object was converted to float64 by StandardScaler.\n",
      "  warnings.warn(msg, DataConversionWarning)\n",
      "/anaconda3/lib/python3.6/site-packages/sklearn/utils/validation.py:475: DataConversionWarning: Data with input dtype object was converted to float64 by StandardScaler.\n",
      "  warnings.warn(msg, DataConversionWarning)\n",
      "/anaconda3/lib/python3.6/site-packages/sklearn/utils/validation.py:475: DataConversionWarning: Data with input dtype object was converted to float64 by StandardScaler.\n",
      "  warnings.warn(msg, DataConversionWarning)\n"
     ]
    }
   ],
   "source": [
    "from sklearn.preprocessing import StandardScaler\n",
    "sc = StandardScaler()\n",
    "X_train = sc.fit_transform(X_train)\n",
    "X_test = sc.transform(X_test)"
   ]
  },
  {
   "cell_type": "code",
   "execution_count": 68,
   "metadata": {},
   "outputs": [],
   "source": [
    "import keras\n",
    "from keras.models import Sequential\n",
    "from keras.layers import Dense"
   ]
  },
  {
   "cell_type": "code",
   "execution_count": 81,
   "metadata": {},
   "outputs": [
    {
     "name": "stderr",
     "output_type": "stream",
     "text": [
      "/anaconda3/lib/python3.6/site-packages/ipykernel_launcher.py:2: UserWarning: Update your `Dense` call to the Keras 2 API: `Dense(activation=\"relu\", input_dim=9, units=6, kernel_initializer=\"uniform\")`\n",
      "  \n",
      "/anaconda3/lib/python3.6/site-packages/ipykernel_launcher.py:4: UserWarning: Update your `Dense` call to the Keras 2 API: `Dense(activation=\"relu\", units=6, kernel_initializer=\"uniform\")`\n",
      "  after removing the cwd from sys.path.\n",
      "/anaconda3/lib/python3.6/site-packages/ipykernel_launcher.py:6: UserWarning: Update your `Dense` call to the Keras 2 API: `Dense(activation=\"sigmoid\", units=1, kernel_initializer=\"uniform\")`\n",
      "  \n"
     ]
    }
   ],
   "source": [
    "classifier = Sequential()\n",
    "classifier.add(Dense(output_dim = 6, init = 'uniform', activation = 'relu', input_dim = 9))\n",
    "# Adding the second hidden layer\n",
    "classifier.add(Dense(output_dim = 6, init = 'uniform', activation = 'relu'))\n",
    "# Adding the output layer\n",
    "classifier.add(Dense(output_dim = 1, init = 'uniform', activation = 'sigmoid'))"
   ]
  },
  {
   "cell_type": "code",
   "execution_count": 82,
   "metadata": {},
   "outputs": [],
   "source": [
    "# Compiling Neural Network\n",
    "classifier.compile(optimizer = 'adam', loss = 'binary_crossentropy', metrics = ['accuracy'])"
   ]
  },
  {
   "cell_type": "code",
   "execution_count": 83,
   "metadata": {},
   "outputs": [
    {
     "name": "stdout",
     "output_type": "stream",
     "text": [
      "Epoch 1/100\n",
      "199/199 [==============================] - 0s 2ms/step - loss: 0.6916 - acc: 0.6633\n",
      "Epoch 2/100\n",
      "199/199 [==============================] - 0s 110us/step - loss: 0.6884 - acc: 0.6834\n",
      "Epoch 3/100\n",
      "199/199 [==============================] - 0s 110us/step - loss: 0.6842 - acc: 0.6834\n",
      "Epoch 4/100\n",
      "199/199 [==============================] - 0s 115us/step - loss: 0.6802 - acc: 0.6834\n",
      "Epoch 5/100\n",
      "199/199 [==============================] - 0s 112us/step - loss: 0.6743 - acc: 0.6834\n",
      "Epoch 6/100\n",
      "199/199 [==============================] - 0s 102us/step - loss: 0.6666 - acc: 0.6834\n",
      "Epoch 7/100\n",
      "199/199 [==============================] - 0s 104us/step - loss: 0.6557 - acc: 0.6834\n",
      "Epoch 8/100\n",
      "199/199 [==============================] - 0s 111us/step - loss: 0.6418 - acc: 0.6834\n",
      "Epoch 9/100\n",
      "199/199 [==============================] - 0s 115us/step - loss: 0.6248 - acc: 0.6884\n",
      "Epoch 10/100\n",
      "199/199 [==============================] - 0s 102us/step - loss: 0.6069 - acc: 0.6985\n",
      "Epoch 11/100\n",
      "199/199 [==============================] - 0s 108us/step - loss: 0.5910 - acc: 0.7286\n",
      "Epoch 12/100\n",
      "199/199 [==============================] - 0s 108us/step - loss: 0.5782 - acc: 0.7487\n",
      "Epoch 13/100\n",
      "199/199 [==============================] - 0s 113us/step - loss: 0.5663 - acc: 0.7538\n",
      "Epoch 14/100\n",
      "199/199 [==============================] - 0s 115us/step - loss: 0.5591 - acc: 0.7538\n",
      "Epoch 15/100\n",
      "199/199 [==============================] - 0s 105us/step - loss: 0.5529 - acc: 0.7437\n",
      "Epoch 16/100\n",
      "199/199 [==============================] - 0s 113us/step - loss: 0.5481 - acc: 0.7437\n",
      "Epoch 17/100\n",
      "199/199 [==============================] - 0s 91us/step - loss: 0.5434 - acc: 0.7588\n",
      "Epoch 18/100\n",
      "199/199 [==============================] - 0s 113us/step - loss: 0.5403 - acc: 0.7538\n",
      "Epoch 19/100\n",
      "199/199 [==============================] - 0s 105us/step - loss: 0.5368 - acc: 0.7538\n",
      "Epoch 20/100\n",
      "199/199 [==============================] - 0s 107us/step - loss: 0.5341 - acc: 0.7538\n",
      "Epoch 21/100\n",
      "199/199 [==============================] - 0s 107us/step - loss: 0.5310 - acc: 0.7588\n",
      "Epoch 22/100\n",
      "199/199 [==============================] - 0s 97us/step - loss: 0.5290 - acc: 0.7588\n",
      "Epoch 23/100\n",
      "199/199 [==============================] - 0s 116us/step - loss: 0.5264 - acc: 0.7588\n",
      "Epoch 24/100\n",
      "199/199 [==============================] - 0s 85us/step - loss: 0.5239 - acc: 0.7588\n",
      "Epoch 25/100\n",
      "199/199 [==============================] - 0s 115us/step - loss: 0.5224 - acc: 0.7538\n",
      "Epoch 26/100\n",
      "199/199 [==============================] - 0s 99us/step - loss: 0.5201 - acc: 0.7538\n",
      "Epoch 27/100\n",
      "199/199 [==============================] - 0s 101us/step - loss: 0.5181 - acc: 0.7538\n",
      "Epoch 28/100\n",
      "199/199 [==============================] - 0s 110us/step - loss: 0.5160 - acc: 0.7538\n",
      "Epoch 29/100\n",
      "199/199 [==============================] - 0s 97us/step - loss: 0.5155 - acc: 0.7487\n",
      "Epoch 30/100\n",
      "199/199 [==============================] - 0s 107us/step - loss: 0.5125 - acc: 0.7487\n",
      "Epoch 31/100\n",
      "199/199 [==============================] - 0s 112us/step - loss: 0.5114 - acc: 0.7538\n",
      "Epoch 32/100\n",
      "199/199 [==============================] - 0s 105us/step - loss: 0.5099 - acc: 0.7638\n",
      "Epoch 33/100\n",
      "199/199 [==============================] - 0s 99us/step - loss: 0.5087 - acc: 0.7638\n",
      "Epoch 34/100\n",
      "199/199 [==============================] - 0s 105us/step - loss: 0.5076 - acc: 0.7688\n",
      "Epoch 35/100\n",
      "199/199 [==============================] - 0s 102us/step - loss: 0.5062 - acc: 0.7638\n",
      "Epoch 36/100\n",
      "199/199 [==============================] - 0s 95us/step - loss: 0.5050 - acc: 0.7688\n",
      "Epoch 37/100\n",
      "199/199 [==============================] - 0s 98us/step - loss: 0.5044 - acc: 0.7638\n",
      "Epoch 38/100\n",
      "199/199 [==============================] - 0s 101us/step - loss: 0.5028 - acc: 0.7688\n",
      "Epoch 39/100\n",
      "199/199 [==============================] - 0s 98us/step - loss: 0.5022 - acc: 0.7638\n",
      "Epoch 40/100\n",
      "199/199 [==============================] - 0s 94us/step - loss: 0.5013 - acc: 0.7688\n",
      "Epoch 41/100\n",
      "199/199 [==============================] - 0s 108us/step - loss: 0.5003 - acc: 0.7739\n",
      "Epoch 42/100\n",
      "199/199 [==============================] - 0s 93us/step - loss: 0.4988 - acc: 0.7688\n",
      "Epoch 43/100\n",
      "199/199 [==============================] - 0s 86us/step - loss: 0.4979 - acc: 0.7739\n",
      "Epoch 44/100\n",
      "199/199 [==============================] - 0s 89us/step - loss: 0.4971 - acc: 0.7789\n",
      "Epoch 45/100\n",
      "199/199 [==============================] - 0s 92us/step - loss: 0.4968 - acc: 0.7739\n",
      "Epoch 46/100\n",
      "199/199 [==============================] - 0s 90us/step - loss: 0.4950 - acc: 0.7739\n",
      "Epoch 47/100\n",
      "199/199 [==============================] - 0s 99us/step - loss: 0.4946 - acc: 0.7739\n",
      "Epoch 48/100\n",
      "199/199 [==============================] - 0s 94us/step - loss: 0.4937 - acc: 0.7789\n",
      "Epoch 49/100\n",
      "199/199 [==============================] - 0s 82us/step - loss: 0.4923 - acc: 0.7789\n",
      "Epoch 50/100\n",
      "199/199 [==============================] - 0s 94us/step - loss: 0.4919 - acc: 0.7789\n",
      "Epoch 51/100\n",
      "199/199 [==============================] - 0s 83us/step - loss: 0.4910 - acc: 0.7789\n",
      "Epoch 52/100\n",
      "199/199 [==============================] - 0s 91us/step - loss: 0.4908 - acc: 0.7789\n",
      "Epoch 53/100\n",
      "199/199 [==============================] - 0s 91us/step - loss: 0.4899 - acc: 0.7789\n",
      "Epoch 54/100\n",
      "199/199 [==============================] - 0s 92us/step - loss: 0.4881 - acc: 0.7789\n",
      "Epoch 55/100\n",
      "199/199 [==============================] - 0s 93us/step - loss: 0.4871 - acc: 0.7789\n",
      "Epoch 56/100\n",
      "199/199 [==============================] - 0s 97us/step - loss: 0.4860 - acc: 0.7839\n",
      "Epoch 57/100\n",
      "199/199 [==============================] - 0s 106us/step - loss: 0.4851 - acc: 0.7789\n",
      "Epoch 58/100\n",
      "199/199 [==============================] - 0s 102us/step - loss: 0.4845 - acc: 0.7839\n",
      "Epoch 59/100\n",
      "199/199 [==============================] - 0s 95us/step - loss: 0.4840 - acc: 0.7789\n",
      "Epoch 60/100\n",
      "199/199 [==============================] - 0s 89us/step - loss: 0.4830 - acc: 0.7739\n",
      "Epoch 61/100\n",
      "199/199 [==============================] - 0s 106us/step - loss: 0.4819 - acc: 0.7789\n",
      "Epoch 62/100\n",
      "199/199 [==============================] - 0s 120us/step - loss: 0.4819 - acc: 0.7789\n",
      "Epoch 63/100\n",
      "199/199 [==============================] - 0s 99us/step - loss: 0.4804 - acc: 0.7839\n",
      "Epoch 64/100\n",
      "199/199 [==============================] - 0s 107us/step - loss: 0.4791 - acc: 0.7839\n",
      "Epoch 65/100\n",
      "199/199 [==============================] - 0s 104us/step - loss: 0.4791 - acc: 0.7839\n",
      "Epoch 66/100\n",
      "199/199 [==============================] - 0s 99us/step - loss: 0.4776 - acc: 0.7839\n",
      "Epoch 67/100\n",
      "199/199 [==============================] - 0s 101us/step - loss: 0.4773 - acc: 0.7839\n",
      "Epoch 68/100\n",
      "199/199 [==============================] - 0s 99us/step - loss: 0.4760 - acc: 0.7839\n",
      "Epoch 69/100\n",
      "199/199 [==============================] - 0s 98us/step - loss: 0.4748 - acc: 0.7839\n",
      "Epoch 70/100\n",
      "199/199 [==============================] - 0s 99us/step - loss: 0.4748 - acc: 0.7839\n",
      "Epoch 71/100\n",
      "199/199 [==============================] - 0s 100us/step - loss: 0.4738 - acc: 0.7839\n",
      "Epoch 72/100\n",
      "199/199 [==============================] - 0s 104us/step - loss: 0.4737 - acc: 0.7940\n",
      "Epoch 73/100\n",
      "199/199 [==============================] - 0s 104us/step - loss: 0.4723 - acc: 0.7940\n",
      "Epoch 74/100\n",
      "199/199 [==============================] - 0s 100us/step - loss: 0.4726 - acc: 0.7940\n",
      "Epoch 75/100\n",
      "199/199 [==============================] - 0s 101us/step - loss: 0.4704 - acc: 0.7889\n",
      "Epoch 76/100\n",
      "199/199 [==============================] - 0s 90us/step - loss: 0.4706 - acc: 0.7839\n",
      "Epoch 77/100\n",
      "199/199 [==============================] - 0s 95us/step - loss: 0.4692 - acc: 0.7889\n",
      "Epoch 78/100\n",
      "199/199 [==============================] - 0s 101us/step - loss: 0.4697 - acc: 0.7889\n",
      "Epoch 79/100\n",
      "199/199 [==============================] - 0s 94us/step - loss: 0.4681 - acc: 0.7889\n",
      "Epoch 80/100\n",
      "199/199 [==============================] - 0s 95us/step - loss: 0.4674 - acc: 0.7940\n",
      "Epoch 81/100\n",
      "199/199 [==============================] - 0s 103us/step - loss: 0.4670 - acc: 0.7940\n",
      "Epoch 82/100\n",
      "199/199 [==============================] - 0s 97us/step - loss: 0.4666 - acc: 0.7990\n",
      "Epoch 83/100\n",
      "199/199 [==============================] - 0s 96us/step - loss: 0.4657 - acc: 0.7940\n",
      "Epoch 84/100\n"
     ]
    },
    {
     "name": "stdout",
     "output_type": "stream",
     "text": [
      "199/199 [==============================] - 0s 99us/step - loss: 0.4654 - acc: 0.7940\n",
      "Epoch 85/100\n",
      "199/199 [==============================] - 0s 105us/step - loss: 0.4649 - acc: 0.7990\n",
      "Epoch 86/100\n",
      "199/199 [==============================] - 0s 101us/step - loss: 0.4641 - acc: 0.8040\n",
      "Epoch 87/100\n",
      "199/199 [==============================] - 0s 107us/step - loss: 0.4635 - acc: 0.7990\n",
      "Epoch 88/100\n",
      "199/199 [==============================] - 0s 107us/step - loss: 0.4638 - acc: 0.7990\n",
      "Epoch 89/100\n",
      "199/199 [==============================] - 0s 112us/step - loss: 0.4633 - acc: 0.8040\n",
      "Epoch 90/100\n",
      "199/199 [==============================] - 0s 117us/step - loss: 0.4627 - acc: 0.7990\n",
      "Epoch 91/100\n",
      "199/199 [==============================] - 0s 109us/step - loss: 0.4628 - acc: 0.7990\n",
      "Epoch 92/100\n",
      "199/199 [==============================] - 0s 104us/step - loss: 0.4621 - acc: 0.7990\n",
      "Epoch 93/100\n",
      "199/199 [==============================] - 0s 109us/step - loss: 0.4614 - acc: 0.8040\n",
      "Epoch 94/100\n",
      "199/199 [==============================] - 0s 110us/step - loss: 0.4608 - acc: 0.7990\n",
      "Epoch 95/100\n",
      "199/199 [==============================] - 0s 101us/step - loss: 0.4603 - acc: 0.7990\n",
      "Epoch 96/100\n",
      "199/199 [==============================] - 0s 107us/step - loss: 0.4599 - acc: 0.7990\n",
      "Epoch 97/100\n",
      "199/199 [==============================] - 0s 115us/step - loss: 0.4592 - acc: 0.8040\n",
      "Epoch 98/100\n",
      "199/199 [==============================] - 0s 101us/step - loss: 0.4590 - acc: 0.8090\n",
      "Epoch 99/100\n",
      "199/199 [==============================] - 0s 113us/step - loss: 0.4581 - acc: 0.8040\n",
      "Epoch 100/100\n",
      "199/199 [==============================] - 0s 107us/step - loss: 0.4583 - acc: 0.8040\n"
     ]
    },
    {
     "data": {
      "text/plain": [
       "<keras.callbacks.History at 0x1a2ec023c8>"
      ]
     },
     "execution_count": 83,
     "metadata": {},
     "output_type": "execute_result"
    }
   ],
   "source": [
    "# Fitting our model \n",
    "classifier.fit(X_train, y_train, batch_size = 10, epochs=100)"
   ]
  },
  {
   "cell_type": "code",
   "execution_count": 84,
   "metadata": {},
   "outputs": [],
   "source": [
    "# Predicting the Test set results\n",
    "y_pred = classifier.predict(X_test)\n",
    "y_pred = (y_pred > 0.5)"
   ]
  },
  {
   "cell_type": "code",
   "execution_count": 85,
   "metadata": {},
   "outputs": [],
   "source": [
    "# Creating the Confusion Matrix\n",
    "from sklearn.metrics import confusion_matrix\n",
    "cm = confusion_matrix(y_test, y_pred)"
   ]
  },
  {
   "cell_type": "code",
   "execution_count": 86,
   "metadata": {},
   "outputs": [
    {
     "data": {
      "text/plain": [
       "array([[56,  8],\n",
       "       [16,  6]])"
      ]
     },
     "execution_count": 86,
     "metadata": {},
     "output_type": "execute_result"
    }
   ],
   "source": [
    "cm"
   ]
  },
  {
   "cell_type": "code",
   "execution_count": 99,
   "metadata": {},
   "outputs": [
    {
     "name": "stdout",
     "output_type": "stream",
     "text": [
      "Epoch 1/100\n",
      "199/199 [==============================] - 0s 43us/step - loss: 0.4552 - acc: 0.8040\n",
      "Epoch 2/100\n",
      "199/199 [==============================] - 0s 39us/step - loss: 0.4548 - acc: 0.8040\n",
      "Epoch 3/100\n",
      "199/199 [==============================] - 0s 41us/step - loss: 0.4548 - acc: 0.8040\n",
      "Epoch 4/100\n",
      "199/199 [==============================] - 0s 44us/step - loss: 0.4549 - acc: 0.8141\n",
      "Epoch 5/100\n",
      "199/199 [==============================] - 0s 41us/step - loss: 0.4547 - acc: 0.8141\n",
      "Epoch 6/100\n",
      "199/199 [==============================] - 0s 39us/step - loss: 0.4544 - acc: 0.8141\n",
      "Epoch 7/100\n",
      "199/199 [==============================] - 0s 41us/step - loss: 0.4543 - acc: 0.8040\n",
      "Epoch 8/100\n",
      "199/199 [==============================] - 0s 38us/step - loss: 0.4542 - acc: 0.8040\n",
      "Epoch 9/100\n",
      "199/199 [==============================] - 0s 37us/step - loss: 0.4540 - acc: 0.8040\n",
      "Epoch 10/100\n",
      "199/199 [==============================] - 0s 46us/step - loss: 0.4538 - acc: 0.8040\n",
      "Epoch 11/100\n",
      "199/199 [==============================] - 0s 42us/step - loss: 0.4536 - acc: 0.8040\n",
      "Epoch 12/100\n",
      "199/199 [==============================] - 0s 47us/step - loss: 0.4537 - acc: 0.8040\n",
      "Epoch 13/100\n",
      "199/199 [==============================] - 0s 45us/step - loss: 0.4536 - acc: 0.8040\n",
      "Epoch 14/100\n",
      "199/199 [==============================] - 0s 35us/step - loss: 0.4532 - acc: 0.8040\n",
      "Epoch 15/100\n",
      "199/199 [==============================] - 0s 54us/step - loss: 0.4534 - acc: 0.8040\n",
      "Epoch 16/100\n",
      "199/199 [==============================] - 0s 53us/step - loss: 0.4533 - acc: 0.8040\n",
      "Epoch 17/100\n",
      "199/199 [==============================] - 0s 52us/step - loss: 0.4535 - acc: 0.8040\n",
      "Epoch 18/100\n",
      "199/199 [==============================] - 0s 43us/step - loss: 0.4535 - acc: 0.8040\n",
      "Epoch 19/100\n",
      "199/199 [==============================] - 0s 40us/step - loss: 0.4531 - acc: 0.8040\n",
      "Epoch 20/100\n",
      "199/199 [==============================] - 0s 48us/step - loss: 0.4529 - acc: 0.8040\n",
      "Epoch 21/100\n",
      "199/199 [==============================] - 0s 42us/step - loss: 0.4525 - acc: 0.8040\n",
      "Epoch 22/100\n",
      "199/199 [==============================] - 0s 35us/step - loss: 0.4524 - acc: 0.8040\n",
      "Epoch 23/100\n",
      "199/199 [==============================] - 0s 37us/step - loss: 0.4522 - acc: 0.8040\n",
      "Epoch 24/100\n",
      "199/199 [==============================] - 0s 35us/step - loss: 0.4521 - acc: 0.8040\n",
      "Epoch 25/100\n",
      "199/199 [==============================] - 0s 44us/step - loss: 0.4523 - acc: 0.8090\n",
      "Epoch 26/100\n",
      "199/199 [==============================] - 0s 45us/step - loss: 0.4519 - acc: 0.8090\n",
      "Epoch 27/100\n",
      "199/199 [==============================] - 0s 37us/step - loss: 0.4518 - acc: 0.8040\n",
      "Epoch 28/100\n",
      "199/199 [==============================] - 0s 43us/step - loss: 0.4518 - acc: 0.8040\n",
      "Epoch 29/100\n",
      "199/199 [==============================] - 0s 40us/step - loss: 0.4515 - acc: 0.8040\n",
      "Epoch 30/100\n",
      "199/199 [==============================] - 0s 40us/step - loss: 0.4513 - acc: 0.8040\n",
      "Epoch 31/100\n",
      "199/199 [==============================] - 0s 38us/step - loss: 0.4512 - acc: 0.8040\n",
      "Epoch 32/100\n",
      "199/199 [==============================] - 0s 48us/step - loss: 0.4510 - acc: 0.8040\n",
      "Epoch 33/100\n",
      "199/199 [==============================] - 0s 45us/step - loss: 0.4508 - acc: 0.8040\n",
      "Epoch 34/100\n",
      "199/199 [==============================] - 0s 41us/step - loss: 0.4506 - acc: 0.8040\n",
      "Epoch 35/100\n",
      "199/199 [==============================] - 0s 43us/step - loss: 0.4505 - acc: 0.8040\n",
      "Epoch 36/100\n",
      "199/199 [==============================] - 0s 37us/step - loss: 0.4504 - acc: 0.8141\n",
      "Epoch 37/100\n",
      "199/199 [==============================] - 0s 39us/step - loss: 0.4502 - acc: 0.8040\n",
      "Epoch 38/100\n",
      "199/199 [==============================] - 0s 39us/step - loss: 0.4501 - acc: 0.8040\n",
      "Epoch 39/100\n",
      "199/199 [==============================] - 0s 37us/step - loss: 0.4499 - acc: 0.8040\n",
      "Epoch 40/100\n",
      "199/199 [==============================] - 0s 48us/step - loss: 0.4498 - acc: 0.8040\n",
      "Epoch 41/100\n",
      "199/199 [==============================] - 0s 43us/step - loss: 0.4497 - acc: 0.8040\n",
      "Epoch 42/100\n",
      "199/199 [==============================] - 0s 39us/step - loss: 0.4496 - acc: 0.8040\n",
      "Epoch 43/100\n",
      "199/199 [==============================] - 0s 42us/step - loss: 0.4494 - acc: 0.8141\n",
      "Epoch 44/100\n",
      "199/199 [==============================] - 0s 36us/step - loss: 0.4491 - acc: 0.8141\n",
      "Epoch 45/100\n",
      "199/199 [==============================] - 0s 40us/step - loss: 0.4491 - acc: 0.8141\n",
      "Epoch 46/100\n",
      "199/199 [==============================] - 0s 43us/step - loss: 0.4490 - acc: 0.8141\n",
      "Epoch 47/100\n",
      "199/199 [==============================] - 0s 37us/step - loss: 0.4488 - acc: 0.8040\n",
      "Epoch 48/100\n",
      "199/199 [==============================] - 0s 39us/step - loss: 0.4486 - acc: 0.8040\n",
      "Epoch 49/100\n",
      "199/199 [==============================] - 0s 56us/step - loss: 0.4488 - acc: 0.8141\n",
      "Epoch 50/100\n",
      "199/199 [==============================] - 0s 44us/step - loss: 0.4485 - acc: 0.8141\n",
      "Epoch 51/100\n",
      "199/199 [==============================] - 0s 41us/step - loss: 0.4483 - acc: 0.8141\n",
      "Epoch 52/100\n",
      "199/199 [==============================] - 0s 38us/step - loss: 0.4481 - acc: 0.8141\n",
      "Epoch 53/100\n",
      "199/199 [==============================] - 0s 36us/step - loss: 0.4476 - acc: 0.8090\n",
      "Epoch 54/100\n",
      "199/199 [==============================] - 0s 37us/step - loss: 0.4476 - acc: 0.8040\n",
      "Epoch 55/100\n",
      "199/199 [==============================] - 0s 40us/step - loss: 0.4474 - acc: 0.8040\n",
      "Epoch 56/100\n",
      "199/199 [==============================] - 0s 40us/step - loss: 0.4473 - acc: 0.8040\n",
      "Epoch 57/100\n",
      "199/199 [==============================] - 0s 36us/step - loss: 0.4470 - acc: 0.8040\n",
      "Epoch 58/100\n",
      "199/199 [==============================] - 0s 37us/step - loss: 0.4470 - acc: 0.8040\n",
      "Epoch 59/100\n",
      "199/199 [==============================] - 0s 43us/step - loss: 0.4467 - acc: 0.8040\n",
      "Epoch 60/100\n",
      "199/199 [==============================] - 0s 39us/step - loss: 0.4474 - acc: 0.8040\n",
      "Epoch 61/100\n",
      "199/199 [==============================] - 0s 36us/step - loss: 0.4468 - acc: 0.8040\n",
      "Epoch 62/100\n",
      "199/199 [==============================] - 0s 46us/step - loss: 0.4466 - acc: 0.8040\n",
      "Epoch 63/100\n",
      "199/199 [==============================] - 0s 39us/step - loss: 0.4467 - acc: 0.8040\n",
      "Epoch 64/100\n",
      "199/199 [==============================] - 0s 36us/step - loss: 0.4461 - acc: 0.8040\n",
      "Epoch 65/100\n",
      "199/199 [==============================] - 0s 37us/step - loss: 0.4456 - acc: 0.8040\n",
      "Epoch 66/100\n",
      "199/199 [==============================] - 0s 40us/step - loss: 0.4456 - acc: 0.8141\n",
      "Epoch 67/100\n",
      "199/199 [==============================] - 0s 41us/step - loss: 0.4454 - acc: 0.8141\n",
      "Epoch 68/100\n",
      "199/199 [==============================] - 0s 38us/step - loss: 0.4449 - acc: 0.8141\n",
      "Epoch 69/100\n",
      "199/199 [==============================] - 0s 38us/step - loss: 0.4451 - acc: 0.8141\n",
      "Epoch 70/100\n",
      "199/199 [==============================] - 0s 42us/step - loss: 0.4447 - acc: 0.8040\n",
      "Epoch 71/100\n",
      "199/199 [==============================] - 0s 44us/step - loss: 0.4443 - acc: 0.8040\n",
      "Epoch 72/100\n",
      "199/199 [==============================] - 0s 41us/step - loss: 0.4442 - acc: 0.8141\n",
      "Epoch 73/100\n",
      "199/199 [==============================] - 0s 41us/step - loss: 0.4441 - acc: 0.8141\n",
      "Epoch 74/100\n",
      "199/199 [==============================] - 0s 38us/step - loss: 0.4438 - acc: 0.8141\n",
      "Epoch 75/100\n",
      "199/199 [==============================] - 0s 37us/step - loss: 0.4437 - acc: 0.8141\n",
      "Epoch 76/100\n",
      "199/199 [==============================] - 0s 36us/step - loss: 0.4438 - acc: 0.8141\n",
      "Epoch 77/100\n",
      "199/199 [==============================] - 0s 39us/step - loss: 0.4432 - acc: 0.8141\n",
      "Epoch 78/100\n",
      "199/199 [==============================] - 0s 39us/step - loss: 0.4435 - acc: 0.8141\n",
      "Epoch 79/100\n",
      "199/199 [==============================] - 0s 39us/step - loss: 0.4431 - acc: 0.8241\n",
      "Epoch 80/100\n",
      "199/199 [==============================] - 0s 38us/step - loss: 0.4432 - acc: 0.8241\n",
      "Epoch 81/100\n",
      "199/199 [==============================] - 0s 37us/step - loss: 0.4430 - acc: 0.8241\n",
      "Epoch 82/100\n",
      "199/199 [==============================] - 0s 39us/step - loss: 0.4428 - acc: 0.8241\n",
      "Epoch 83/100\n",
      "199/199 [==============================] - 0s 38us/step - loss: 0.4424 - acc: 0.8241\n",
      "Epoch 84/100\n"
     ]
    },
    {
     "name": "stdout",
     "output_type": "stream",
     "text": [
      "199/199 [==============================] - 0s 42us/step - loss: 0.4422 - acc: 0.8241\n",
      "Epoch 85/100\n",
      "199/199 [==============================] - 0s 37us/step - loss: 0.4418 - acc: 0.8241\n",
      "Epoch 86/100\n",
      "199/199 [==============================] - 0s 34us/step - loss: 0.4417 - acc: 0.8241\n",
      "Epoch 87/100\n",
      "199/199 [==============================] - 0s 47us/step - loss: 0.4411 - acc: 0.8191\n",
      "Epoch 88/100\n",
      "199/199 [==============================] - 0s 44us/step - loss: 0.4410 - acc: 0.8191\n",
      "Epoch 89/100\n",
      "199/199 [==============================] - 0s 41us/step - loss: 0.4406 - acc: 0.8191\n",
      "Epoch 90/100\n",
      "199/199 [==============================] - 0s 40us/step - loss: 0.4406 - acc: 0.8241\n",
      "Epoch 91/100\n",
      "199/199 [==============================] - 0s 37us/step - loss: 0.4403 - acc: 0.8241\n",
      "Epoch 92/100\n",
      "199/199 [==============================] - 0s 38us/step - loss: 0.4407 - acc: 0.8241\n",
      "Epoch 93/100\n",
      "199/199 [==============================] - 0s 40us/step - loss: 0.4404 - acc: 0.8241\n",
      "Epoch 94/100\n",
      "199/199 [==============================] - 0s 41us/step - loss: 0.4398 - acc: 0.8241\n",
      "Epoch 95/100\n",
      "199/199 [==============================] - 0s 38us/step - loss: 0.4401 - acc: 0.8191\n",
      "Epoch 96/100\n",
      "199/199 [==============================] - 0s 37us/step - loss: 0.4394 - acc: 0.8191\n",
      "Epoch 97/100\n",
      "199/199 [==============================] - 0s 42us/step - loss: 0.4391 - acc: 0.8191\n",
      "Epoch 98/100\n",
      "199/199 [==============================] - 0s 42us/step - loss: 0.4389 - acc: 0.8191\n",
      "Epoch 99/100\n",
      "199/199 [==============================] - 0s 43us/step - loss: 0.4386 - acc: 0.8191\n",
      "Epoch 100/100\n",
      "199/199 [==============================] - 0s 38us/step - loss: 0.4383 - acc: 0.8191\n"
     ]
    }
   ],
   "source": [
    "history =classifier.fit(X_train[:200], y_train[:200],epochs=100, verbose=1)"
   ]
  },
  {
   "cell_type": "code",
   "execution_count": 100,
   "metadata": {},
   "outputs": [
    {
     "data": {
      "text/plain": [
       "Text(0,0.5,'Train Error')"
      ]
     },
     "execution_count": 100,
     "metadata": {},
     "output_type": "execute_result"
    },
    {
     "data": {
      "image/png": "[encoded data removed]",
      "text/plain": [
       "<Figure size 432x288 with 1 Axes>"
      ]
     },
     "metadata": {},
     "output_type": "display_data"
    }
   ],
   "source": [
    "pd.Series(history.history['loss']).plot(logy=True)\n",
    "plt.xlabel(\"Epoch\")\n",
    "plt.ylabel(\"Train Error\")"
   ]
  },
  {
   "cell_type": "code",
   "execution_count": 101,
   "metadata": {},
   "outputs": [
    {
     "name": "stdout",
     "output_type": "stream",
     "text": [
      "_________________________________________________________________\n",
      "Layer (type)                 Output Shape              Param #   \n",
      "=================================================================\n",
      "dense_13 (Dense)             (None, 6)                 60        \n",
      "_________________________________________________________________\n",
      "dense_14 (Dense)             (None, 6)                 42        \n",
      "_________________________________________________________________\n",
      "dense_15 (Dense)             (None, 1)                 7         \n",
      "=================================================================\n",
      "Total params: 109\n",
      "Trainable params: 109\n",
      "Non-trainable params: 0\n",
      "_________________________________________________________________\n"
     ]
    }
   ],
   "source": [
    "classifier.summary()"
   ]
  },
  {
   "cell_type": "code",
   "execution_count": 103,
   "metadata": {},
   "outputs": [
    {
     "name": "stdout",
     "output_type": "stream",
     "text": [
      "86/86 [==============================] - 0s 442us/step\n",
      "Test score: 0.523325156334\n",
      "Test accuracy: 0.732558140921\n"
     ]
    }
   ],
   "source": [
    "score = classifier.evaluate(X_test, y_test, verbose=1)\n",
    "\n",
    "print('Test score:', score[0])\n",
    "print('Test accuracy:', score[1])"
   ]
  },
  {
   "cell_type": "code",
   "execution_count": 104,
   "metadata": {},
   "outputs": [
    {
     "name": "stdout",
     "output_type": "stream",
     "text": [
      "199/199 [==============================] - 0s 22us/step\n",
      "Test score on train: 0.43799886362\n",
      "Test accuracy on train: 0.819095477387\n"
     ]
    }
   ],
   "source": [
    "score_on_train = classifier.evaluate(X_train, y_train, verbose=1)\n",
    "\n",
    "print('Test score on train:', score_on_train[0])\n",
    "print('Test accuracy on train:', score_on_train[1])"
   ]
  },
  {
   "cell_type": "code",
   "execution_count": null,
   "metadata": {},
   "outputs": [],
   "source": []
  }
 ],
 "metadata": {
  "kernelspec": {
   "display_name": "Python 3",
   "language": "python",
   "name": "python3"
  },
  "language_info": {
   "codemirror_mode": {
    "name": "ipython",
    "version": 3
   },
   "file_extension": ".py",
   "mimetype": "text/x-python",
   "name": "python",
   "nbconvert_exporter": "python",
   "pygments_lexer": "ipython3",
   "version": "3.6.5"
  }
 },
 "nbformat": 4,
 "nbformat_minor": 2
}
